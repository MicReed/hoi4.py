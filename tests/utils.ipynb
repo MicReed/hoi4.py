{
 "cells": [
  {
   "cell_type": "markdown",
   "metadata": {
    "vscode": {
     "languageId": "plaintext"
    }
   },
   "source": [
    "get space"
   ]
  },
  {
   "cell_type": "code",
   "execution_count": 6,
   "metadata": {},
   "outputs": [
    {
     "name": "stdout",
     "output_type": "stream",
     "text": [
      "16\n"
     ]
    }
   ],
   "source": [
    "import re\n",
    "tar_string = '                \"military_lines\": {'\n",
    "\n",
    "space_pre = r'^\\s+'\n",
    "match = re.search(space_pre, tar_string)\n",
    "if match:\n",
    "    # print(match)\n",
    "    print(len(match.group(0)))"
   ]
  },
  {
   "cell_type": "code",
   "execution_count": 38,
   "metadata": {},
   "outputs": [
    {
     "name": "stdout",
     "output_type": "stream",
     "text": [
      "['mil_lines', 'mil_lines__1', 'mil_lines__2', 'mil_lines__3', 'mil_lines__4']\n",
      "<class 'list'>\n"
     ]
    }
   ],
   "source": [
    "import re \n",
    "\n",
    "a = '''\n",
    "a__1\n",
    "b__1\n",
    "b__2\n",
    "b__3\n",
    "b__4\n",
    "b__5\n",
    "b_1\n",
    "b_2\n",
    "b\n",
    "b__c\n",
    "c__1\n",
    "mil_lines\n",
    "mil_lines__1\n",
    "mil_lines__2\n",
    "mil_lines__3\n",
    "mil_lines__4\n",
    "    mil_lines__5\n",
    "    mil_lines__6\n",
    "    mil_lines__7\n",
    "\n",
    "'''\n",
    "# print(a)\n",
    "c = r'^mil_lines.*'\n",
    "c = re.compile(c)   \n",
    "d = a.split('\\n')\n",
    "\n",
    "# findb = re.compile(r'mil_lines__\\d|mil_lines\\b')\n",
    "listc = []\n",
    "listb = re.findall(c,a)\n",
    "for name in d:\n",
    "    if re.match(c,name):\n",
    "        listc.append(name)\n",
    "print(listc)\n",
    "print(type(listc))"
   ]
  },
  {
   "cell_type": "code",
   "execution_count": 97,
   "metadata": {},
   "outputs": [
    {
     "name": "stdout",
     "output_type": "stream",
     "text": [
      "act_fac_num: 23\n",
      "fac_output_mod: 0.186\n",
      "line_speed: 26.500000000000014\n",
      "prod_cost 0.5\n",
      "53.00000000000003\n"
     ]
    }
   ],
   "source": [
    "import math\n",
    "a = ['23.00000', '23.00000', '23.00000', '23.00000', '23.00000', '23.00000', '23.00000', '23.00000', '23.00000', '23.00000', '20.75286', '20.75286', '20.75286', '20.75286', '20.75286', '20.75286', '20.75286', '20.75286', '20.75286', '20.75286', '20.75286', '20.75286', '20.75286', '10.00000', '10.00000', '10.00000', '10.00000', '10.00000', '10.00000', '10.00000', '10.00000', '10.00000', '10.00000', '10.00000', '10.00000', '10.00000', '10.00000', '10.00000', '10.00000', '10.00000', '10.00000', '10.00000', '10.00000', '10.00000', '10.00000', '10.00000', '10.00000', '10.00000', '10.00000', '10.00000', '10.00000', '10.00000', '10.00000', '10.00000', '10.00000', '10.00000', '10.00000', '10.00000', '10.00000', '10.00000', '10.00000', '10.00000', '10.00000', '10.00000', '10.00000', '10.00000', '10.00000', '10.00000', '10.00000', '10.00000', '10.00000', '10.00000', '10.00000', '10.00000', '10.00000', '10.00000', '10.00000', '10.00000', '10.00000', '10.00000', '10.00000', '10.00000', '10.00000', '10.00000', '10.00000', '10.00000', '10.00000', '10.00000', '10.00000', '10.00000', '10.00000', '10.00000', '10.00000', '10.00000', '10.00000', '10.00000', '10.00000', '10.00000', '10.00000', '10.00000', '10.00000', '10.00000', '10.00000', '10.00000', '10.00000', '10.00000', '10.00000', '10.00000', '10.00000', '10.00000', '10.00000', '10.00000', '10.00000', '10.00000', '10.00000', '10.00000', '10.00000', '10.00000', '10.00000', '10.00000', '10.00000', '10.00000', '10.00000', '10.00000', '10.00000', '10.00000', '10.00000', '10.00000', '10.00000', '10.00000', '10.00000', '10.00000', '10.00000', '10.00000', '10.00000', '10.00000', '10.00000', '10.00000', '10.00000', '10.00000', '10.00000', '10.00000', '10.00000', '10.00000', '10.00000', '10.00000', '10.00000', '10.00000', '10.00000', '10.00000']\n",
    "\n",
    "fac_num = 23\n",
    "stablity = 84 *0.01\n",
    "export_bonus = 5 * 0.01\n",
    "base_cost = 0.5\n",
    "cost_bonus = -0 *0.01\n",
    "\n",
    "b = a[:fac_num]\n",
    "print('act_fac_num:',len(b))\n",
    "\n",
    "b = [float(i) * 0.01 for i in b]\n",
    "# print(b)\n",
    "# c = sum(b)\n",
    "# c = round(c,2)\n",
    "# print('aver_fac_eff:',c/fac_num)\n",
    "\n",
    "stablity_bonus = (stablity - 0.5) * 0.4\n",
    "\n",
    "fac_output_mod = stablity_bonus + export_bonus\n",
    "print('fac_output_mod:',fac_output_mod)\n",
    "fac_prod = [math.floor(i * (1 +fac_output_mod) * 4.5 * 100)/100 for i in b]\n",
    "line_speed = sum(fac_prod)\n",
    "print('line_speed:',line_speed)\n",
    "\n",
    "prod_cost = base_cost *(1 + cost_bonus)\n",
    "print('prod_cost',prod_cost)\n",
    "\n",
    "output  = line_speed/prod_cost\n",
    "print(output)"
   ]
  },
  {
   "cell_type": "code",
   "execution_count": 125,
   "metadata": {},
   "outputs": [
    {
     "name": "stdout",
     "output_type": "stream",
     "text": [
      "Empty DataFrame\n",
      "Columns: [A, B, C, D]\n",
      "Index: []\n"
     ]
    },
    {
     "data": {
      "text/plain": [
       "True"
      ]
     },
     "execution_count": 125,
     "metadata": {},
     "output_type": "execute_result"
    }
   ],
   "source": [
    "import pandas as pd\n",
    "\n",
    "# Example DataFrame\n",
    "data = {'A': [1, 2, 3],\n",
    "        'B': [4, 5, 6],\n",
    "        'C': ['[12,13,14]', 8, 9],\n",
    "        'D': [5, 7, 9]}\n",
    "\n",
    "df = pd.DataFrame(data)\n",
    "\n",
    "# Find the row where B = 4\n",
    "row = df.loc[df['B'] == 100]\n",
    "\n",
    "print(row)\n",
    "\n",
    "row.empty"
   ]
  },
  {
   "cell_type": "code",
   "execution_count": 120,
   "metadata": {},
   "outputs": [
    {
     "name": "stdout",
     "output_type": "stream",
     "text": [
      "0    [12, 13, 14]\n",
      "Name: C, dtype: object\n",
      "<class 'pandas.core.series.Series'>\n"
     ]
    }
   ],
   "source": [
    "import ast\n",
    "a = row['C'].apply(ast.literal_eval)\n",
    "print(a)\n",
    "\n",
    "print(type(a))"
   ]
  },
  {
   "cell_type": "code",
   "execution_count": 119,
   "metadata": {},
   "outputs": [
    {
     "name": "stdout",
     "output_type": "stream",
     "text": [
      "[12, 13, 14]\n"
     ]
    }
   ],
   "source": [
    "print(a[0])"
   ]
  },
  {
   "cell_type": "code",
   "execution_count": 1,
   "metadata": {},
   "outputs": [
    {
     "name": "stdout",
     "output_type": "stream",
     "text": [
      "{1: 1, 2: 2, 3: 3}\n"
     ]
    }
   ],
   "source": [
    "def print_arg(*args):\n",
    "    arg_dict = {}\n",
    "    for arg in args:\n",
    "        arg_dict[arg] = arg\n",
    "    print(arg_dict)\n",
    "a =1\n",
    "b =2\n",
    "c =3\n",
    "\n",
    "print_arg(a,b,c)"
   ]
  },
  {
   "cell_type": "code",
   "execution_count": 4,
   "metadata": {},
   "outputs": [
    {
     "name": "stdout",
     "output_type": "stream",
     "text": [
      "{'a': 1, 'b': 2, 'c': 3}\n"
     ]
    }
   ],
   "source": [
    "def print_arg(**kwargs):  # Use keyword arguments to capture named arguments\n",
    "    arg_dict = {}\n",
    "    for key, value in kwargs.items():\n",
    "        arg_dict[key] = value  # Use the key directly\n",
    "    print(arg_dict)\n",
    "\n",
    "a = 1\n",
    "b = 2\n",
    "c = 3\n",
    "\n",
    "print_arg(a=a, b=b, c=c)  # Pass the variable names as keyword arguments\n"
   ]
  },
  {
   "cell_type": "code",
   "execution_count": 6,
   "metadata": {},
   "outputs": [
    {
     "data": {
      "text/plain": [
       "datetime.datetime(1936, 2, 2, 0, 0)"
      ]
     },
     "execution_count": 6,
     "metadata": {},
     "output_type": "execute_result"
    }
   ],
   "source": [
    "import datetime\n",
    "a = '1936_02_01'\n",
    "c_day = datetime.datetime.strptime(a, '%Y_%m_%d')\n",
    "c_day + datetime.timedelta(days=1)"
   ]
  },
  {
   "cell_type": "code",
   "execution_count": null,
   "metadata": {},
   "outputs": [],
   "source": []
  }
 ],
 "metadata": {
  "kernelspec": {
   "display_name": "v2pop",
   "language": "python",
   "name": "python3"
  },
  "language_info": {
   "codemirror_mode": {
    "name": "ipython",
    "version": 3
   },
   "file_extension": ".py",
   "mimetype": "text/x-python",
   "name": "python",
   "nbconvert_exporter": "python",
   "pygments_lexer": "ipython3",
   "version": "3.10.14"
  }
 },
 "nbformat": 4,
 "nbformat_minor": 2
}
